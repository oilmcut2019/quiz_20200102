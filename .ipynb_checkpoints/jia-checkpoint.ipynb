{
 "cells": [
  {
   "cell_type": "markdown",
   "metadata": {},
   "source": [
    "1.What will be the output of the following C code?<br><br>\n",
    "\n",
    "    #include <stdio.h>\n",
    "    int main()\n",
    "    {\n",
    "        j = 10;\n",
    "        printf(\"%d\\n\", j++);\n",
    "        return 0;\n",
    "    }\n",
    "    \n",
    "a) 10<br>\n",
    "b) 11<br>\n",
    "c) Compile time error<br>\n",
    "d) 0"
   ]
  },
  {
   "cell_type": "markdown",
   "metadata": {},
   "source": [
    "2.What will be the output of the following C code?<br>\n",
    "\n",
    "    #include <stdio.h>\n",
    "    void main()\n",
    "    {\n",
    "        int k = 4;\n",
    "        float k = 4;\n",
    "        printf(\"%d\", k)\n",
    "    }\n",
    "    \n",
    "a) Compile time error<br>\n",
    "b) 4<br>\n",
    "c) 4.0000000<br>\n",
    "d) 4.4"
   ]
  },
  {
   "cell_type": "markdown",
   "metadata": {},
   "source": [
    "3.What will be the output of the following C code?<br>\n",
    "\n",
    "    #include <stdio.h>\n",
    "    void main()\n",
    "    {\n",
    "        int x = 5.3 % 2;\n",
    "        printf(\"Value of x is %d\", x);\n",
    "    }\n",
    "    \n",
    "a) Value of x is 2.3<br>\n",
    "b) Value of x is 1<br>\n",
    "c) Value of x is 0.3<br>\n",
    "d) Compile time error"
   ]
  },
  {
   "cell_type": "markdown",
   "metadata": {},
   "source": [
    "4.What is the precedence of arithmetic operators (from highest to lowest)?<br>\n",
    "a) %, *, /, +, –<br>\n",
    "b) %, +, /, *, –<br>\n",
    "c) +, -, %, *, /<br>\n",
    "d) %, +, -, *, /"
   ]
  },
  {
   "cell_type": "markdown",
   "metadata": {},
   "source": [
    "5.Which among the following are the fundamental arithmetic operators, i.e, performing the desired operation can be done using that operator only?<br>\n",
    "a) +, –<br>\n",
    "b) +, -, %<br>\n",
    "c) +, -, *, /<br>\n",
    "d) +, -, *, /, %"
   ]
  },
  {
   "cell_type": "markdown",
   "metadata": {},
   "source": [
    "6.What will be the output of the following C code?<br><br>\n",
    "\n",
    "    #include <stdio.h>\n",
    "    void main()\n",
    "    {\n",
    "        int x = 1, y = 0, z = 5;\n",
    "        int a = x && y || z++;\n",
    "        printf(\"%d\", z);\n",
    "    }\n",
    "    \n",
    "a) 6<br>\n",
    "b) 5<br>\n",
    "c) 0<br>\n",
    "d) Varies"
   ]
  },
  {
   "cell_type": "markdown",
   "metadata": {},
   "source": [
    "7.What will be the final value of d in the following C code?<br>\n",
    "\n",
    "    #include <stdio.h>\n",
    "    int main()\n",
    "    {\n",
    "        int a = 10, b = 5, c = 5;\n",
    "        int d;\n",
    "        d = b + c == a;\n",
    "        printf(\"%d\", d);\n",
    "    }\n",
    "    \n",
    "a) Syntax error<br>\n",
    "b) 1<br>\n",
    "c) 5<br>\n",
    "d) 10"
   ]
  },
  {
   "cell_type": "markdown",
   "metadata": {},
   "source": [
    "8.What will be the output of the following C code? (Assuming that we have entered the value 2 in the standard input)<br>\n",
    "\n",
    "    #include <stdio.h>\n",
    "    void main()\n",
    "    {\n",
    "        int ch;\n",
    "        printf(\"enter a value between 1 to 2:\");\n",
    "        scanf(\"%d\", &ch);\n",
    "        switch (ch)\n",
    "        {\n",
    "           case 1:\n",
    "              printf(\"1\\n\");\n",
    "              break;\n",
    "              printf(\"Hi\");\n",
    "           default:\n",
    "              printf(\"2\\n\");\n",
    "        }\n",
    "    }\n",
    "    \n",
    "a) 1<br>\n",
    "b) Hi 2<br>\n",
    "c) Run time error<br>\n",
    "d) 2"
   ]
  },
  {
   "cell_type": "markdown",
   "metadata": {},
   "source": [
    "9.What will be the output of the following C code?<br>\n",
    "\n",
    "    #include <stdio.h>\n",
    "    int main()\n",
    "    {\n",
    "        int a = 1;\n",
    "        if (a)\n",
    "            printf(\"All is Well \");\n",
    "            printf(\"I am Well\\n\");\n",
    "        else\n",
    "            printf(\"I am not a River\\n\");\n",
    "    }\n",
    "    \n",
    "a) Output will be All is Well I am Well<br>\n",
    "b) Output will be I am Well I am not a River<br>\n",
    "c) Output will be I am Well<br>\n",
    "d) Compile time errors during compilation"
   ]
  },
  {
   "cell_type": "markdown",
   "metadata": {},
   "source": [
    "10.What will be the output of the following C code? (Assuming that we have entered the value 1 in the standard input)<br>\n",
    "\n",
    "    #include <stdio.h>\n",
    "    void main()\n",
    "    {\n",
    "        char *ch;\n",
    "        printf(\"enter a value between 1 to 3:\");\n",
    "        scanf(\"%s\", ch);\n",
    "        switch (ch)\n",
    "        {\n",
    "           case \"1\":\n",
    "              printf(\"1\");\n",
    "              break;\n",
    "           case \"2\":\n",
    "              printf(\"2\");\n",
    "              break;\n",
    "        }\n",
    "    }\n",
    "    \n",
    "a) 1<br>\n",
    "b) Compile time error<br>\n",
    "c) 2<br>\n",
    "d) Run time error"
   ]
  },
  {
   "cell_type": "markdown",
   "metadata": {},
   "source": [
    "11.What will be the output of the following C code? (Assuming that we have entered the value 1 in the standard input)<br>\n",
    "\n",
    "    #include <stdio.h>\n",
    "    void main()\n",
    "    {\n",
    "        int ch;\n",
    "        printf(\"enter a value between 1 to 2:\");\n",
    "        scanf(\"%d\", &ch);\n",
    "        switch (ch)\n",
    "        {\n",
    "           case 1:\n",
    "              printf(\"1\\n\");\n",
    "           default:\n",
    "              printf(\"2\\n\");\n",
    "        }\n",
    "    }\n",
    "    \n",
    "a) 1<br>\n",
    "b) 2<br>\n",
    "c) 1 2<br>\n",
    "d) Run time error"
   ]
  },
  {
   "cell_type": "markdown",
   "metadata": {},
   "source": [
    "12.What will be the output of the following C code?<br>\n",
    "\n",
    "    #include <stdio.h>\n",
    "    void main()\n",
    "    {\n",
    "        double k = 0;\n",
    "        for (k = 0.0; k < 3.0; k++)\n",
    "            printf(\"Hello\");\n",
    "    }\n",
    "    \n",
    "a) Run time error<br>\n",
    "b) Hello is printed thrice<br>\n",
    "c) Hello is printed twice<br>\n",
    "d) Hello is printed infinitely"
   ]
  },
  {
   "cell_type": "markdown",
   "metadata": {},
   "source": [
    "13.What will be the output of the following C code?<br>\n",
    "\n",
    "    #include <stdio.h>\n",
    "    void main()\n",
    "    {\n",
    "        int i = 0;\n",
    "        do\n",
    "        {\n",
    "            printf(\"Hello\");\n",
    "        } while (i != 0);\n",
    "    }\n",
    "    \n",
    "a) Nothing<br>\n",
    "b) H is printed infinite times<br>\n",
    "c) Hello<br>\n",
    "d) Run time error"
   ]
  },
  {
   "cell_type": "markdown",
   "metadata": {},
   "source": [
    "14.What will be the output of the following Python code?\n",
    "\n",
    "    a=10\n",
    "    b=20\n",
    "    def change():\n",
    "        global b\n",
    "        a=45\n",
    "        b=56\n",
    "    change()\n",
    "    print(a)\n",
    "    print(b)\n",
    "a)<br>\n",
    "10<br>\n",
    "56<br><br>\n",
    "b)<br>\n",
    "45<br>\n",
    "56<br><br>\n",
    "c)<br>\n",
    "10<br>\n",
    "20<br><br>\n",
    "d) Syntax Error"
   ]
  },
  {
   "cell_type": "markdown",
   "metadata": {},
   "source": [
    "15.What will be the output of the following Python code snippet?<br>\n",
    "\n",
    "    x = 2\n",
    "    for i in range(x):\n",
    "        x -= 2\n",
    "        print (x)\n",
    "    \n",
    "a) 0 1 2 3 4 …<br>\n",
    "b) 0 -2<br>\n",
    "c) 0<br>\n",
    "d) error "
   ]
  },
  {
   "cell_type": "markdown",
   "metadata": {},
   "source": [
    "16.What arithmetic operators cannot be used with strings?<br>\n",
    "a) +<br>\n",
    "b) *<br>\n",
    "c) –<br>\n",
    "d) All of the mentioned"
   ]
  },
  {
   "cell_type": "markdown",
   "metadata": {},
   "source": [
    "17.Suppose listExample is [3, 4, 5, 20, 5, 25, 1, 3], what is list1 after listExample.pop(1)?<br>\n",
    "a) [3, 4, 5, 20, 5, 25, 1, 3]<br>\n",
    "b) [1, 3, 3, 4, 5, 5, 20, 25]<br>\n",
    "c) [3, 5, 20, 5, 25, 1, 3]<br>\n",
    "d) [1, 3, 4, 5, 20, 5, 25]"
   ]
  },
  {
   "cell_type": "markdown",
   "metadata": {},
   "source": [
    "18.What will be the output of the following Python code?<br><br>\n",
    "list1 = [1, 2, 3, 4]<br>\n",
    "list2 = [5, 6, 7, 8]<br>\n",
    "print(len(list1 + list2))<br><br>\n",
    "a) 2<br>\n",
    "b) 4<br>\n",
    "c) 5<br>\n",
    "d) 8"
   ]
  },
  {
   "cell_type": "markdown",
   "metadata": {},
   "source": [
    "19.What will be the output of the following Python code?\n",
    "\n",
    "    for i in range(5):\n",
    "        if i == 5:\n",
    "            break\n",
    "        else:\n",
    "            print(i)\n",
    "    else:\n",
    "        print(\"Here\")\n",
    "    \n",
    "a) 0 1 2 3 4 Here<br>\n",
    "b) 0 1 2 3 4 5 Here<br>\n",
    "c) 0 1 2 3 4<br>\n",
    "d) 1 2 3 4 5"
   ]
  },
  {
   "cell_type": "markdown",
   "metadata": {},
   "source": [
    "20.What will be the output of the following Python code?\n",
    "\n",
    "    l=[[1, 2, 3], [4, 5, 6]]\n",
    "    for i in range(len(l)):\n",
    "        for j in range(len(l[ i ])):\n",
    "            l[ i ][ j ]+=10\n",
    "\n",
    "    l\n",
    "\n",
    "a) No output<br>\n",
    "b) Error<br>\n",
    "c) [[1, 2, 3], [4, 5, 6]]<br>\n",
    "d) [[11, 12, 13], [14, 15, 16]]"
   ]
  }
 ],
 "metadata": {
  "kernelspec": {
   "display_name": "Python 3",
   "language": "python",
   "name": "python3"
  },
  "language_info": {
   "codemirror_mode": {
    "name": "ipython",
    "version": 3
   },
   "file_extension": ".py",
   "mimetype": "text/x-python",
   "name": "python",
   "nbconvert_exporter": "python",
   "pygments_lexer": "ipython3",
   "version": "3.7.3"
  },
  "nbTranslate": {
   "displayLangs": [
    "*"
   ],
   "hotkey": "alt-t",
   "langInMainMenu": true,
   "sourceLang": "en",
   "targetLang": "fr",
   "useGoogleTranslate": true
  },
  "toc": {
   "base_numbering": 1,
   "nav_menu": {},
   "number_sections": true,
   "sideBar": true,
   "skip_h1_title": false,
   "title_cell": "Table of Contents",
   "title_sidebar": "Contents",
   "toc_cell": false,
   "toc_position": {},
   "toc_section_display": true,
   "toc_window_display": false
  },
  "varInspector": {
   "cols": {
    "lenName": 16,
    "lenType": 16,
    "lenVar": 40
   },
   "kernels_config": {
    "python": {
     "delete_cmd_postfix": "",
     "delete_cmd_prefix": "del ",
     "library": "var_list.py",
     "varRefreshCmd": "print(var_dic_list())"
    },
    "r": {
     "delete_cmd_postfix": ") ",
     "delete_cmd_prefix": "rm(",
     "library": "var_list.r",
     "varRefreshCmd": "cat(var_dic_list()) "
    }
   },
   "types_to_exclude": [
    "module",
    "function",
    "builtin_function_or_method",
    "instance",
    "_Feature"
   ],
   "window_display": false
  }
 },
 "nbformat": 4,
 "nbformat_minor": 2
}
