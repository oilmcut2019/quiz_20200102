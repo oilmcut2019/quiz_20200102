{
 "cells": [
  {
   "cell_type": "markdown",
   "metadata": {},
   "source": [
    "1.The name of the variable used in one function cannot be used in another function.<br>\n",
    "a) True<br>\n",
    "b) False"
   ]
  },
  {
   "cell_type": "markdown",
   "metadata": {},
   "source": [
    "2.What will be the output of the following C code?<br>\n",
    "\n",
    "    #include <stdio.h>\n",
    "    int main()\n",
    "    {\n",
    "        int i = 5;\n",
    "        i = i / 3;\n",
    "        printf(\"%d\\n\", i);\n",
    "        return 0;\n",
    "    }\n",
    "    \n",
    "a) Implementation defined<br>\n",
    "b) 1<br>\n",
    "c) 3<br>\n",
    "d) Compile time error"
   ]
  },
  {
   "cell_type": "markdown",
   "metadata": {},
   "source": [
    "3.Which of the following is not an arithmetic operation?<br>\n",
    "a) a * = 10;<br>\n",
    "b) a / = 10;<br>\n",
    "c) a ! = 10;<br>\n",
    "d) a % = 10;"
   ]
  },
  {
   "cell_type": "markdown",
   "metadata": {},
   "source": [
    "4.Which of the following data type will throw an error on modulus operation(%)?<br>\n",
    "a) char<br>\n",
    "b) double<br>\n",
    "c) int<br>\n",
    "d) float"
   ]
  },
  {
   "cell_type": "markdown",
   "metadata": {},
   "source": [
    "5.What will be the output of the following C code?<br>\n",
    "\n",
    "    #include <stdio.h>\n",
    "    int main()\n",
    "    {\n",
    "        j = 10;\n",
    "        printf(\"%d\\n\", j++);\n",
    "        return 0;\n",
    "    }\n",
    "    \n",
    "a) 10<br>\n",
    "b) 11<br>\n",
    "c) Compile time error<br>\n",
    "d) 0"
   ]
  },
  {
   "cell_type": "markdown",
   "metadata": {},
   "source": [
    "6.What will be the output of the following C code?<br>\n",
    "\n",
    "    #include <stdio.h>\n",
    "    void main()\n",
    "    {\n",
    "        int x = 1, y = 0, z = 5;\n",
    "        int a = x && y && z++;\n",
    "        printf(\"%d\", z);\n",
    "    }\n",
    "    \n",
    "a) 6<br>\n",
    "b) 5<br>\n",
    "c) 0<br>\n",
    "d) Varies"
   ]
  },
  {
   "cell_type": "markdown",
   "metadata": {},
   "source": [
    "7.Which among the following is NOT a logical or relational operator?<br>\n",
    "a) !=<br>\n",
    "b) ==<br>\n",
    "c) ||<br>\n",
    "d) ="
   ]
  },
  {
   "cell_type": "markdown",
   "metadata": {},
   "source": [
    "8.What will be the output of the following C code?<br>\n",
    "\n",
    "    #include <stdio.h>\n",
    "    void main()\n",
    "    {\n",
    "        int x = 0;\n",
    "        if (x == 0)\n",
    "            printf(\"hi\");\n",
    "        else\n",
    "            printf(\"how are u\");\n",
    "            printf(\"hello\");\n",
    "    }\n",
    "    \n",
    "a) hi<br>\n",
    "b) how are you<br>\n",
    "c) hello<br>\n",
    "d) hihello"
   ]
  },
  {
   "cell_type": "markdown",
   "metadata": {},
   "source": [
    "9.What will be the output of the following C code?<br>\n",
    "\n",
    "    #include <stdio.h>\n",
    "    int main()\n",
    "    {\n",
    "        if (printf(\"%d\", printf(\")))\n",
    "            printf(\"We are Happy\");\n",
    "        else if (printf(\"1\"))\n",
    "            printf(\"We are Sad\");\n",
    "    }\n",
    "    \n",
    "a) 0We are Happy<br>\n",
    "b) 1We are Happy<br>\n",
    "c) 1We are Sad<br>\n",
    "d) compile time error"
   ]
  },
  {
   "cell_type": "markdown",
   "metadata": {},
   "source": [
    "10.What will be the output of the following C code? (Assuming that we have entered the value 1 in the standard input)<br>\n",
    "\n",
    "    #include <stdio.h>\n",
    "    void main()\n",
    "    {\n",
    "        double ch;\n",
    "        printf(\"enter a value between 1 to 2:\");\n",
    "        scanf(\"%lf\", &ch);\n",
    "        switch (ch)\n",
    "        {\n",
    "           case 1:\n",
    "              printf(\"1\");\n",
    "              break;\n",
    "           case 2:\n",
    "              printf(\"2\");\n",
    "              break;\n",
    "        }\n",
    "    }\n",
    "    \n",
    "a) Compile time error<br>\n",
    "b) 1<br>\n",
    "c) 2<br>\n",
    "d) Varies"
   ]
  },
  {
   "cell_type": "markdown",
   "metadata": {},
   "source": [
    "11.What will be the output of the following C code? (Assuming that we have entered the value 2 in the standard input)<br>\n",
    "\n",
    "    #include <stdio.h>\n",
    "    void main()\n",
    "    {\n",
    "        int ch;\n",
    "        printf(\"enter a value between 1 to 2:\");\n",
    "        scanf(\"%d\", &ch);\n",
    "        switch (ch)\n",
    "        {\n",
    "           case 1:\n",
    "              printf(\"1\\n\");\n",
    "              break;\n",
    "              printf(\"hi\");\n",
    "           default:\n",
    "              printf(\"2\\n\");\n",
    "        }\n",
    "    }\n",
    "    \n",
    "a) 1<br>\n",
    "b) hi 2<br>\n",
    "c) Run time error<br>\n",
    "d) 2"
   ]
  },
  {
   "cell_type": "markdown",
   "metadata": {},
   "source": [
    "12.What will be the output of the following C code?<br>\n",
    "\n",
    "    #include <stdio.h>\n",
    "    void main()\n",
    "    {\n",
    "        int k = 0;\n",
    "        for (k)\n",
    "            printf(\"Hello\");\n",
    "    }\n",
    "    \n",
    "a) Compile time error<br>\n",
    "b) hello<br>\n",
    "c) Nothing<br>\n",
    "d) Varies"
   ]
  },
  {
   "cell_type": "markdown",
   "metadata": {},
   "source": [
    "13.What will be the output of the following C code?<br>\n",
    "\n",
    "    #include <stdio.h>\n",
    "    void main()\n",
    "    {\n",
    "        int i = 0;\n",
    "        while (++i)\n",
    "        {\n",
    "            printf(\"H\");\n",
    "        }\n",
    "    }\n",
    "a) H<br>\n",
    "b) H is printed infinite times<br>\n",
    "c) Compile time error<br>\n",
    "d) Varies"
   ]
  },
  {
   "cell_type": "markdown",
   "metadata": {},
   "source": [
    "14.What will be the output of the following Python code?<br>\n",
    "\n",
    "    for i in range(5):\n",
    "        if i == 5:\n",
    "            break\n",
    "        else:\n",
    "            print(i)\n",
    "    else:\n",
    "        print(\"Here\")\n",
    "    \n",
    "a) 0 1 2 3 4 Here<br>\n",
    "b) 0 1 2 3 4 5 Here<br>\n",
    "c) 0 1 2 3 4<br>\n",
    "d) 1 2 3 4 5"
   ]
  },
  {
   "cell_type": "markdown",
   "metadata": {},
   "source": [
    "15.What will be the output of the following Python code snippet?<br><br>\n",
    "l=[1, 2, 4, 5, 2, 'xy', 4]<br>\n",
    "set(l)<br><br>\n",
    "a)<br>\n",
    "{1, 2, 4, 5, 2, ‘xy’, 4}<br><br>\n",
    "b)<br>\n",
    "{1, 2, 4, 5, ‘xy’}<br><br>\n",
    "c)<br>\n",
    "{1, 5, ‘xy’}<br><br>\n",
    "d)<br>\n",
    "[1, 2, 4, 5, ‘xy’]"
   ]
  },
  {
   "cell_type": "markdown",
   "metadata": {},
   "source": [
    "16.What will be the output of the following Python code?<br>\n",
    "\n",
    "    matrix = [[1, 2, 3, 4],\n",
    "           [4, 5, 6, 7],\n",
    "           [8, 9, 10, 11],\n",
    "           [12, 13, 14, 15]]\n",
    "\n",
    "    for i in range(0, 4):\n",
    "        print(matrix[i][1], end = \" \")\n",
    "\n",
    "a) 1 2 3 4<br>\n",
    "b) 4 5 6 7<br>\n",
    "c) 1 3 8 12<br>\n",
    "d) 2 5 9 13"
   ]
  },
  {
   "cell_type": "markdown",
   "metadata": {},
   "source": [
    "17.What will be the output of the following Python code?<br>\n",
    "\n",
    "    l=[[1, 2, 3], [4, 5, 6]]\n",
    "    for i in range(len(l)):\n",
    "        for j in range(len(l[i])):\n",
    "            l[i][j]+=10\n",
    "    l\n",
    "\n",
    "a) No output<br>\n",
    "b) Error<br>\n",
    "c) [[1, 2, 3], [4, 5, 6]]<br>\n",
    "d) [[11, 12, 13], [14, 15, 16]]"
   ]
  },
  {
   "cell_type": "markdown",
   "metadata": {},
   "source": [
    "18.What will be the output of the following Python code snippet?<br>\n",
    "\n",
    "    z=set('abc')\n",
    "    z.add('san')\n",
    "    z.update(set(['p', 'q']))\n",
    "    z\n",
    "\n",
    "a) {‘abc’, ‘p’, ‘q’, ‘san’}<br>\n",
    "b) {‘a’, ‘b’, ‘c’, [‘p’, ‘q’], ‘san}<br>\n",
    "c) {‘a’, ‘c’, ‘c’, ‘p’, ‘q’, ‘s’, ‘a’, ‘n’}<br>\n",
    "d) {‘a’, ‘b’, ‘c’, ‘p’, ‘q’, ‘san’}"
   ]
  },
  {
   "cell_type": "markdown",
   "metadata": {},
   "source": [
    "19.What will be the output of the following Python code?\n",
    "\n",
    "    L = [lambda x: x ** 2,lambda x: x ** 3,lambda x: x ** 4]\n",
    "    for f in L:\n",
    "        >print(f(3))\n",
    "\n",
    "a)<br>\n",
    "27<br>\n",
    "81<br>\n",
    "343<br><br>\n",
    "b)<br>\n",
    "6<br>\n",
    "9<br>\n",
    "12<br><br>\n",
    "c)<br>\n",
    "9<br>\n",
    "27<br>\n",
    "81<br><br>\n",
    "d) None of the mentioned"
   ]
  },
  {
   "cell_type": "markdown",
   "metadata": {},
   "source": [
    "20.What will be the output of the following Python code?\n",
    "\n",
    "    i=0\n",
    "    def change(i):\n",
    "       i=i+1\n",
    "       return i\n",
    "    change(1)\n",
    "    print(i)\n",
    "a) 1<br>\n",
    "b) Nothing is displayed<br>\n",
    "c) 0<br>\n",
    "d) An exception is thrown"
   ]
  }
 ],
 "metadata": {
  "kernelspec": {
   "display_name": "Python 3",
   "language": "python",
   "name": "python3"
  },
  "language_info": {
   "codemirror_mode": {
    "name": "ipython",
    "version": 3
   },
   "file_extension": ".py",
   "mimetype": "text/x-python",
   "name": "python",
   "nbconvert_exporter": "python",
   "pygments_lexer": "ipython3",
   "version": "3.7.3"
  },
  "nbTranslate": {
   "displayLangs": [
    "*"
   ],
   "hotkey": "alt-t",
   "langInMainMenu": true,
   "sourceLang": "en",
   "targetLang": "fr",
   "useGoogleTranslate": true
  },
  "toc": {
   "base_numbering": 1,
   "nav_menu": {},
   "number_sections": true,
   "sideBar": true,
   "skip_h1_title": false,
   "title_cell": "Table of Contents",
   "title_sidebar": "Contents",
   "toc_cell": false,
   "toc_position": {},
   "toc_section_display": true,
   "toc_window_display": false
  },
  "varInspector": {
   "cols": {
    "lenName": 16,
    "lenType": 16,
    "lenVar": 40
   },
   "kernels_config": {
    "python": {
     "delete_cmd_postfix": "",
     "delete_cmd_prefix": "del ",
     "library": "var_list.py",
     "varRefreshCmd": "print(var_dic_list())"
    },
    "r": {
     "delete_cmd_postfix": ") ",
     "delete_cmd_prefix": "rm(",
     "library": "var_list.r",
     "varRefreshCmd": "cat(var_dic_list()) "
    }
   },
   "types_to_exclude": [
    "module",
    "function",
    "builtin_function_or_method",
    "instance",
    "_Feature"
   ],
   "window_display": false
  }
 },
 "nbformat": 4,
 "nbformat_minor": 2
}
